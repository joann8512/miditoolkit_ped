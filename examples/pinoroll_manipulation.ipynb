{
 "cells": [
  {
   "cell_type": "code",
   "execution_count": 1,
   "metadata": {},
   "outputs": [],
   "source": [
    "from miditoolkit.midi import parser as mid_parser\n",
    "from miditoolkit.pianoroll import parser as pr_parser\n",
    "from miditoolkit.pianoroll import utils"
   ]
  },
  {
   "cell_type": "markdown",
   "metadata": {},
   "source": [
    "# Piano-roll Manipulation\n",
    "\n",
    "This notebook will show you how to parse a MIDI file into piano-rolls\n",
    "\n",
    "\n",
    "## A. Convert notes to pianoroll"
   ]
  },
  {
   "cell_type": "code",
   "execution_count": 2,
   "metadata": {},
   "outputs": [
    {
     "name": "stdout",
     "output_type": "stream",
     "text": [
      "(125340, 128)\n"
     ]
    }
   ],
   "source": [
    "# load midi file\n",
    "path_midi = '../testcases/1.midi'\n",
    "mido_obj = mid_parser.MidiFile(path_midi)\n",
    "notes = mido_obj.instruments[0].notes\n",
    "\n",
    "# convert notes to pianoroll\n",
    "pianoroll = pr_parser.notes2pianoroll(\n",
    "                    notes)\n",
    "\n",
    "# pianoroll: tick x pitch\n",
    "print(pianoroll.shape)"
   ]
  },
  {
   "cell_type": "markdown",
   "metadata": {},
   "source": [
    "## B. Crop and pad pitch axis"
   ]
  },
  {
   "cell_type": "code",
   "execution_count": 3,
   "metadata": {},
   "outputs": [
    {
     "name": "stdout",
     "output_type": "stream",
     "text": [
      "before: (125340, 84)\n",
      " after: (125340, 128)\n"
     ]
    }
   ],
   "source": [
    "# cropping pitch\n",
    "pianoroll_small = pianoroll[:, 24:108]\n",
    "print('before:', pianoroll_small.shape)\n",
    "\n",
    "# padding pitch\n",
    "pianoroll_re = utils.pitch_padding(pianoroll_small, pitch_range=(24, 108))\n",
    "print(' after:', pianoroll_re.shape)"
   ]
  },
  {
   "cell_type": "markdown",
   "metadata": {},
   "source": [
    "## C. Convert pianoroll to chromagram"
   ]
  },
  {
   "cell_type": "code",
   "execution_count": 4,
   "metadata": {},
   "outputs": [
    {
     "name": "stdout",
     "output_type": "stream",
     "text": [
      "(125340, 12)\n"
     ]
    }
   ],
   "source": [
    "# convert to chromagram\n",
    "chormagram = utils.tochroma(pianoroll)\n",
    "print(chormagram.shape)"
   ]
  },
  {
   "cell_type": "markdown",
   "metadata": {},
   "source": [
    "## D. Resampling"
   ]
  },
  {
   "cell_type": "code",
   "execution_count": 5,
   "metadata": {},
   "outputs": [
    {
     "name": "stdout",
     "output_type": "stream",
     "text": [
      "resampling factor: 0.05\n",
      "downsample: (6267, 128)\n",
      "Note(start=0, end=60, pitch=48, velocity=52) | Note(start=0, end=60, pitch=48, velocity=52)\n",
      "Note(start=0, end=60, pitch=55, velocity=45) | Note(start=0, end=60, pitch=55, velocity=45)\n",
      "Note(start=0, end=60, pitch=64, velocity=52) | Note(start=0, end=60, pitch=64, velocity=52)\n",
      "Note(start=0, end=960, pitch=72, velocity=58) | Note(start=0, end=960, pitch=72, velocity=58)\n",
      "Note(start=0, end=1020, pitch=74, velocity=69) | Note(start=0, end=1020, pitch=74, velocity=69)\n"
     ]
    }
   ],
   "source": [
    "# resampling\n",
    "old_resol = mido_obj.ticks_per_beat\n",
    "new_resol = 24\n",
    "factor_down = new_resol/ old_resol\n",
    "print('resampling factor:', factor_down)\n",
    "\n",
    "# dowmsample\n",
    "pianoroll = pr_parser.notes2pianoroll(\n",
    "                    notes, \n",
    "                    resample_factor=factor_down)\n",
    "print('downsample:', pianoroll.shape)\n",
    "\n",
    "# upsmaple\n",
    "notes_re = pr_parser.pianoroll2notes(\n",
    "                    pianoroll,\n",
    "                    resample_factor=1/factor_down)\n",
    "# check\n",
    "for pair in zip(notes_re[:5],  notes[:5]):\n",
    "    print('{} | {}'.format(pair[0], pair[1]))"
   ]
  }
 ],
 "metadata": {
  "kernelspec": {
   "display_name": "Python 3",
   "language": "python",
   "name": "python3"
  },
  "language_info": {
   "codemirror_mode": {
    "name": "ipython",
    "version": 3
   },
   "file_extension": ".py",
   "mimetype": "text/x-python",
   "name": "python",
   "nbconvert_exporter": "python",
   "pygments_lexer": "ipython3",
   "version": "3.7.3"
  }
 },
 "nbformat": 4,
 "nbformat_minor": 2
}
